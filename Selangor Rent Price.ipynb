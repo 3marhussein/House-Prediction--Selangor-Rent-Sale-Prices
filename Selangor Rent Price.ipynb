{
 "cells": [
  {
   "cell_type": "markdown",
   "id": "0b902185",
   "metadata": {},
   "source": [
    "# Selangor Rent Price"
   ]
  },
  {
   "cell_type": "markdown",
   "id": "48b17202",
   "metadata": {},
   "source": [
    "## 1. Importing the libraries"
   ]
  },
  {
   "cell_type": "code",
   "execution_count": 117,
   "id": "cc1017df",
   "metadata": {},
   "outputs": [],
   "source": [
    "import pandas as pd\n",
    "import numpy as np\n",
    "from sklearn.model_selection import train_test_split\n",
    "from sklearn.linear_model import LinearRegression\n",
    "from sklearn.metrics import r2_score\n",
    "import matplotlib.pyplot as plt\n",
    "import seaborn as sns\n",
    "%matplotlib inline"
   ]
  },
  {
   "cell_type": "markdown",
   "id": "dc634c4f",
   "metadata": {},
   "source": [
    "## 2. Importing and the dataset"
   ]
  },
  {
   "cell_type": "code",
   "execution_count": 118,
   "id": "3582a18d",
   "metadata": {},
   "outputs": [],
   "source": [
    "df = pd.read_csv('rent.csv')"
   ]
  },
  {
   "cell_type": "markdown",
   "id": "c89d0984",
   "metadata": {},
   "source": [
    "## 3. Exploring the data"
   ]
  },
  {
   "cell_type": "code",
   "execution_count": 119,
   "id": "c6823cf7",
   "metadata": {
    "scrolled": true
   },
   "outputs": [
    {
     "data": {
      "text/html": [
       "<div>\n",
       "<style scoped>\n",
       "    .dataframe tbody tr th:only-of-type {\n",
       "        vertical-align: middle;\n",
       "    }\n",
       "\n",
       "    .dataframe tbody tr th {\n",
       "        vertical-align: top;\n",
       "    }\n",
       "\n",
       "    .dataframe thead th {\n",
       "        text-align: right;\n",
       "    }\n",
       "</style>\n",
       "<table border=\"1\" class=\"dataframe\">\n",
       "  <thead>\n",
       "    <tr style=\"text-align: right;\">\n",
       "      <th></th>\n",
       "      <th>State</th>\n",
       "      <th>City</th>\n",
       "      <th>Building</th>\n",
       "      <th>Unit-type</th>\n",
       "      <th>Size</th>\n",
       "      <th>Furnishing</th>\n",
       "      <th>Bebroom</th>\n",
       "      <th>Bathroom</th>\n",
       "      <th>Parking</th>\n",
       "      <th>RentPrice</th>\n",
       "    </tr>\n",
       "  </thead>\n",
       "  <tbody>\n",
       "    <tr>\n",
       "      <th>0</th>\n",
       "      <td>Selangor</td>\n",
       "      <td>Petaling Jaya</td>\n",
       "      <td>Amcorp Serviced Suites</td>\n",
       "      <td>Studio</td>\n",
       "      <td>500</td>\n",
       "      <td>Fully</td>\n",
       "      <td>1</td>\n",
       "      <td>1</td>\n",
       "      <td>1</td>\n",
       "      <td>1100</td>\n",
       "    </tr>\n",
       "    <tr>\n",
       "      <th>1</th>\n",
       "      <td>Selangor</td>\n",
       "      <td>Petaling Jaya</td>\n",
       "      <td>Amcorp Serviced Suites</td>\n",
       "      <td>Studio</td>\n",
       "      <td>488</td>\n",
       "      <td>Fully</td>\n",
       "      <td>1</td>\n",
       "      <td>1</td>\n",
       "      <td>0</td>\n",
       "      <td>1150</td>\n",
       "    </tr>\n",
       "    <tr>\n",
       "      <th>2</th>\n",
       "      <td>Selangor</td>\n",
       "      <td>Petaling Jaya</td>\n",
       "      <td>Amcorp Serviced Suites</td>\n",
       "      <td>Studio</td>\n",
       "      <td>940</td>\n",
       "      <td>Fully</td>\n",
       "      <td>2</td>\n",
       "      <td>1</td>\n",
       "      <td>0</td>\n",
       "      <td>1750</td>\n",
       "    </tr>\n",
       "    <tr>\n",
       "      <th>3</th>\n",
       "      <td>Selangor</td>\n",
       "      <td>Petaling Jaya</td>\n",
       "      <td>Amcorp Serviced Suites</td>\n",
       "      <td>Studio</td>\n",
       "      <td>488</td>\n",
       "      <td>Fancy</td>\n",
       "      <td>1</td>\n",
       "      <td>1</td>\n",
       "      <td>1</td>\n",
       "      <td>1400</td>\n",
       "    </tr>\n",
       "    <tr>\n",
       "      <th>4</th>\n",
       "      <td>Selangor</td>\n",
       "      <td>Petaling Jaya</td>\n",
       "      <td>Amcorp Serviced Suites</td>\n",
       "      <td>Studio</td>\n",
       "      <td>745</td>\n",
       "      <td>Fully</td>\n",
       "      <td>2</td>\n",
       "      <td>1</td>\n",
       "      <td>0</td>\n",
       "      <td>1500</td>\n",
       "    </tr>\n",
       "  </tbody>\n",
       "</table>\n",
       "</div>"
      ],
      "text/plain": [
       "      State           City                Building Unit-type  Size Furnishing  \\\n",
       "0  Selangor  Petaling Jaya  Amcorp Serviced Suites    Studio   500      Fully   \n",
       "1  Selangor  Petaling Jaya  Amcorp Serviced Suites    Studio   488      Fully   \n",
       "2  Selangor  Petaling Jaya  Amcorp Serviced Suites    Studio   940      Fully   \n",
       "3  Selangor  Petaling Jaya  Amcorp Serviced Suites    Studio   488      Fancy   \n",
       "4  Selangor  Petaling Jaya  Amcorp Serviced Suites    Studio   745      Fully   \n",
       "\n",
       "   Bebroom  Bathroom  Parking  RentPrice  \n",
       "0        1         1        1       1100  \n",
       "1        1         1        0       1150  \n",
       "2        2         1        0       1750  \n",
       "3        1         1        1       1400  \n",
       "4        2         1        0       1500  "
      ]
     },
     "execution_count": 119,
     "metadata": {},
     "output_type": "execute_result"
    }
   ],
   "source": [
    "df.head()"
   ]
  },
  {
   "cell_type": "code",
   "execution_count": 131,
   "id": "8dccbfa3",
   "metadata": {
    "scrolled": false
   },
   "outputs": [
    {
     "data": {
      "text/plain": [
       "<AxesSubplot:>"
      ]
     },
     "execution_count": 131,
     "metadata": {},
     "output_type": "execute_result"
    },
    {
     "data": {
      "image/png": "[encoded data removed]",
      "text/plain": [
       "<Figure size 432x288 with 2 Axes>"
      ]
     },
     "metadata": {
      "needs_background": "light"
     },
     "output_type": "display_data"
    }
   ],
   "source": [
    "sns.heatmap(df.isnull(),yticklabels = False, cbar = True)\n"
   ]
  },
  {
   "cell_type": "code",
   "execution_count": 120,
   "id": "9937babb",
   "metadata": {},
   "outputs": [
    {
     "data": {
      "text/plain": [
       "<matplotlib.collections.PathCollection at 0x1cbdc5f1160>"
      ]
     },
     "execution_count": 120,
     "metadata": {},
     "output_type": "execute_result"
    },
    {
     "data": {
      "image/png": "[encoded data removed]",
      "text/plain": [
       "<Figure size 432x288 with 1 Axes>"
      ]
     },
     "metadata": {
      "needs_background": "light"
     },
     "output_type": "display_data"
    }
   ],
   "source": [
    "fig, ax = plt.subplots()\n",
    "\n",
    "ax.scatter(x=data['Size'], y=data['RentPrice'])"
   ]
  },
  {
   "cell_type": "code",
   "execution_count": 121,
   "id": "8b67ff0e",
   "metadata": {
    "scrolled": true
   },
   "outputs": [
    {
     "data": {
      "text/html": [
       "<div>\n",
       "<style scoped>\n",
       "    .dataframe tbody tr th:only-of-type {\n",
       "        vertical-align: middle;\n",
       "    }\n",
       "\n",
       "    .dataframe tbody tr th {\n",
       "        vertical-align: top;\n",
       "    }\n",
       "\n",
       "    .dataframe thead th {\n",
       "        text-align: right;\n",
       "    }\n",
       "</style>\n",
       "<table border=\"1\" class=\"dataframe\">\n",
       "  <thead>\n",
       "    <tr style=\"text-align: right;\">\n",
       "      <th></th>\n",
       "      <th>Size</th>\n",
       "      <th>Bebroom</th>\n",
       "      <th>Bathroom</th>\n",
       "      <th>Parking</th>\n",
       "      <th>RentPrice</th>\n",
       "    </tr>\n",
       "  </thead>\n",
       "  <tbody>\n",
       "    <tr>\n",
       "      <th>Size</th>\n",
       "      <td>1.000000</td>\n",
       "      <td>0.791616</td>\n",
       "      <td>0.653495</td>\n",
       "      <td>0.517783</td>\n",
       "      <td>0.843242</td>\n",
       "    </tr>\n",
       "    <tr>\n",
       "      <th>Bebroom</th>\n",
       "      <td>0.791616</td>\n",
       "      <td>1.000000</td>\n",
       "      <td>0.702442</td>\n",
       "      <td>0.432793</td>\n",
       "      <td>0.692296</td>\n",
       "    </tr>\n",
       "    <tr>\n",
       "      <th>Bathroom</th>\n",
       "      <td>0.653495</td>\n",
       "      <td>0.702442</td>\n",
       "      <td>1.000000</td>\n",
       "      <td>0.422920</td>\n",
       "      <td>0.484263</td>\n",
       "    </tr>\n",
       "    <tr>\n",
       "      <th>Parking</th>\n",
       "      <td>0.517783</td>\n",
       "      <td>0.432793</td>\n",
       "      <td>0.422920</td>\n",
       "      <td>1.000000</td>\n",
       "      <td>0.450438</td>\n",
       "    </tr>\n",
       "    <tr>\n",
       "      <th>RentPrice</th>\n",
       "      <td>0.843242</td>\n",
       "      <td>0.692296</td>\n",
       "      <td>0.484263</td>\n",
       "      <td>0.450438</td>\n",
       "      <td>1.000000</td>\n",
       "    </tr>\n",
       "  </tbody>\n",
       "</table>\n",
       "</div>"
      ],
      "text/plain": [
       "               Size   Bebroom  Bathroom   Parking  RentPrice\n",
       "Size       1.000000  0.791616  0.653495  0.517783   0.843242\n",
       "Bebroom    0.791616  1.000000  0.702442  0.432793   0.692296\n",
       "Bathroom   0.653495  0.702442  1.000000  0.422920   0.484263\n",
       "Parking    0.517783  0.432793  0.422920  1.000000   0.450438\n",
       "RentPrice  0.843242  0.692296  0.484263  0.450438   1.000000"
      ]
     },
     "execution_count": 121,
     "metadata": {},
     "output_type": "execute_result"
    }
   ],
   "source": [
    "data.corr()"
   ]
  },
  {
   "cell_type": "code",
   "execution_count": 122,
   "id": "29d68eb0",
   "metadata": {},
   "outputs": [
    {
     "data": {
      "text/plain": [
       "State         0\n",
       "City          0\n",
       "Building      0\n",
       "Unit-type     0\n",
       "Size          0\n",
       "Furnishing    0\n",
       "Bebroom       0\n",
       "Bathroom      0\n",
       "Parking       0\n",
       "RentPrice     0\n",
       "dtype: int64"
      ]
     },
     "execution_count": 122,
     "metadata": {},
     "output_type": "execute_result"
    }
   ],
   "source": [
    "# Checking the null values\n",
    "\n",
    "df.isnull() .sum()"
   ]
  },
  {
   "cell_type": "code",
   "execution_count": 123,
   "id": "2ed3fc21",
   "metadata": {},
   "outputs": [
    {
     "name": "stdout",
     "output_type": "stream",
     "text": [
      "<class 'pandas.core.frame.DataFrame'>\n",
      "RangeIndex: 60 entries, 0 to 59\n",
      "Data columns (total 10 columns):\n",
      " #   Column      Non-Null Count  Dtype \n",
      "---  ------      --------------  ----- \n",
      " 0   State       60 non-null     object\n",
      " 1   City        60 non-null     object\n",
      " 2   Building    60 non-null     object\n",
      " 3   Unit-type   60 non-null     object\n",
      " 4   Size        60 non-null     int64 \n",
      " 5   Furnishing  60 non-null     object\n",
      " 6   Bebroom     60 non-null     int64 \n",
      " 7   Bathroom    60 non-null     int64 \n",
      " 8   Parking     60 non-null     int64 \n",
      " 9   RentPrice   60 non-null     int64 \n",
      "dtypes: int64(5), object(5)\n",
      "memory usage: 4.8+ KB\n"
     ]
    }
   ],
   "source": [
    "df.info()"
   ]
  },
  {
   "cell_type": "code",
   "execution_count": 124,
   "id": "0661c119",
   "metadata": {},
   "outputs": [],
   "source": [
    "X = df.iloc[:,:-1]\n",
    "y = df.iloc[:,-1]"
   ]
  },
  {
   "cell_type": "code",
   "execution_count": 125,
   "id": "314fab46",
   "metadata": {},
   "outputs": [
    {
     "data": {
      "text/plain": [
       "60"
      ]
     },
     "execution_count": 125,
     "metadata": {},
     "output_type": "execute_result"
    }
   ],
   "source": [
    "len(y)"
   ]
  },
  {
   "cell_type": "code",
   "execution_count": 126,
   "id": "54fbddb5",
   "metadata": {},
   "outputs": [],
   "source": [
    "X_train, X_test, y_train, y_test = train_test_split(X, y, random_state=0, test_size=.15)"
   ]
  },
  {
   "cell_type": "code",
   "execution_count": 127,
   "id": "8c9b57bd",
   "metadata": {},
   "outputs": [],
   "source": [
    "lin = LinearRegression()\n"
   ]
  },
  {
   "cell_type": "code",
   "execution_count": null,
   "id": "b26a7e4c",
   "metadata": {},
   "outputs": [],
   "source": []
  }
 ],
 "metadata": {
  "kernelspec": {
   "display_name": "Python 3 (ipykernel)",
   "language": "python",
   "name": "python3"
  },
  "language_info": {
   "codemirror_mode": {
    "name": "ipython",
    "version": 3
   },
   "file_extension": ".py",
   "mimetype": "text/x-python",
   "name": "python",
   "nbconvert_exporter": "python",
   "pygments_lexer": "ipython3",
   "version": "3.9.7"
  }
 },
 "nbformat": 4,
 "nbformat_minor": 5
}
