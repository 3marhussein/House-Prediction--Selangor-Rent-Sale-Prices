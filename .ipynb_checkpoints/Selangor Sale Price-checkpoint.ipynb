{
 "cells": [
  {
   "cell_type": "markdown",
   "id": "0b902185",
   "metadata": {},
   "source": [
    "# Selangor House Price Predection "
   ]
  },
  {
   "cell_type": "markdown",
   "id": "48b17202",
   "metadata": {},
   "source": [
    "## Importing the libraries"
   ]
  },
  {
   "cell_type": "code",
   "execution_count": 9,
   "id": "cc1017df",
   "metadata": {},
   "outputs": [],
   "source": [
    "import pandas as pd\n",
    "import matplotlib.pyplot as plt\n",
    "import numpy as np"
   ]
  },
  {
   "cell_type": "markdown",
   "id": "dc634c4f",
   "metadata": {},
   "source": [
    "## 1. Importing and the dataset"
   ]
  },
  {
   "cell_type": "code",
   "execution_count": 28,
   "id": "3582a18d",
   "metadata": {},
   "outputs": [],
   "source": [
    "data = pd.read_csv('Data.csv')"
   ]
  },
  {
   "cell_type": "markdown",
   "id": "c89d0984",
   "metadata": {},
   "source": [
    "## 2. Exploring the data"
   ]
  },
  {
   "cell_type": "code",
   "execution_count": 32,
   "id": "c6823cf7",
   "metadata": {},
   "outputs": [
    {
     "data": {
      "text/html": [
       "<div>\n",
       "<style scoped>\n",
       "    .dataframe tbody tr th:only-of-type {\n",
       "        vertical-align: middle;\n",
       "    }\n",
       "\n",
       "    .dataframe tbody tr th {\n",
       "        vertical-align: top;\n",
       "    }\n",
       "\n",
       "    .dataframe thead th {\n",
       "        text-align: right;\n",
       "    }\n",
       "</style>\n",
       "<table border=\"1\" class=\"dataframe\">\n",
       "  <thead>\n",
       "    <tr style=\"text-align: right;\">\n",
       "      <th></th>\n",
       "      <th>State</th>\n",
       "      <th>City</th>\n",
       "      <th>Building</th>\n",
       "      <th>Unit-type</th>\n",
       "      <th>Size</th>\n",
       "      <th>Furnishing</th>\n",
       "      <th>Bebroom</th>\n",
       "      <th>Bathroom</th>\n",
       "      <th>Parking</th>\n",
       "      <th>RentPrice</th>\n",
       "      <th>SalePrice</th>\n",
       "    </tr>\n",
       "  </thead>\n",
       "  <tbody>\n",
       "    <tr>\n",
       "      <th>0</th>\n",
       "      <td>Selangor</td>\n",
       "      <td>Petaling Jaya</td>\n",
       "      <td>Amcorp Serviced Suites</td>\n",
       "      <td>Studio</td>\n",
       "      <td>500</td>\n",
       "      <td>Fully</td>\n",
       "      <td>1</td>\n",
       "      <td>1</td>\n",
       "      <td>1.0</td>\n",
       "      <td>1100.0</td>\n",
       "      <td>NaN</td>\n",
       "    </tr>\n",
       "    <tr>\n",
       "      <th>1</th>\n",
       "      <td>Selangor</td>\n",
       "      <td>Petaling Jaya</td>\n",
       "      <td>Amcorp Serviced Suites</td>\n",
       "      <td>Studio</td>\n",
       "      <td>488</td>\n",
       "      <td>Fully</td>\n",
       "      <td>1</td>\n",
       "      <td>1</td>\n",
       "      <td>NaN</td>\n",
       "      <td>1150.0</td>\n",
       "      <td>NaN</td>\n",
       "    </tr>\n",
       "    <tr>\n",
       "      <th>2</th>\n",
       "      <td>Selangor</td>\n",
       "      <td>Petaling Jaya</td>\n",
       "      <td>Amcorp Serviced Suites</td>\n",
       "      <td>Studio</td>\n",
       "      <td>940</td>\n",
       "      <td>Fully</td>\n",
       "      <td>2</td>\n",
       "      <td>1</td>\n",
       "      <td>NaN</td>\n",
       "      <td>1750.0</td>\n",
       "      <td>NaN</td>\n",
       "    </tr>\n",
       "    <tr>\n",
       "      <th>3</th>\n",
       "      <td>Selangor</td>\n",
       "      <td>Petaling Jaya</td>\n",
       "      <td>Amcorp Serviced Suites</td>\n",
       "      <td>Studio</td>\n",
       "      <td>488</td>\n",
       "      <td>Fancy</td>\n",
       "      <td>1</td>\n",
       "      <td>1</td>\n",
       "      <td>1.0</td>\n",
       "      <td>1400.0</td>\n",
       "      <td>NaN</td>\n",
       "    </tr>\n",
       "    <tr>\n",
       "      <th>4</th>\n",
       "      <td>Selangor</td>\n",
       "      <td>Petaling Jaya</td>\n",
       "      <td>Amcorp Serviced Suites</td>\n",
       "      <td>Studio</td>\n",
       "      <td>745</td>\n",
       "      <td>Fully</td>\n",
       "      <td>2</td>\n",
       "      <td>1</td>\n",
       "      <td>NaN</td>\n",
       "      <td>1500.0</td>\n",
       "      <td>NaN</td>\n",
       "    </tr>\n",
       "  </tbody>\n",
       "</table>\n",
       "</div>"
      ],
      "text/plain": [
       "      State           City                Building Unit-type  Size Furnishing  \\\n",
       "0  Selangor  Petaling Jaya  Amcorp Serviced Suites    Studio   500      Fully   \n",
       "1  Selangor  Petaling Jaya  Amcorp Serviced Suites    Studio   488      Fully   \n",
       "2  Selangor  Petaling Jaya  Amcorp Serviced Suites    Studio   940      Fully   \n",
       "3  Selangor  Petaling Jaya  Amcorp Serviced Suites    Studio   488      Fancy   \n",
       "4  Selangor  Petaling Jaya  Amcorp Serviced Suites    Studio   745      Fully   \n",
       "\n",
       "   Bebroom  Bathroom  Parking  RentPrice  SalePrice  \n",
       "0        1         1      1.0     1100.0        NaN  \n",
       "1        1         1      NaN     1150.0        NaN  \n",
       "2        2         1      NaN     1750.0        NaN  \n",
       "3        1         1      1.0     1400.0        NaN  \n",
       "4        2         1      NaN     1500.0        NaN  "
      ]
     },
     "execution_count": 32,
     "metadata": {},
     "output_type": "execute_result"
    }
   ],
   "source": [
    "data.head()"
   ]
  },
  {
   "cell_type": "code",
   "execution_count": 33,
   "id": "028ab81f",
   "metadata": {},
   "outputs": [
    {
     "data": {
      "text/plain": [
       "(69, 11)"
      ]
     },
     "execution_count": 33,
     "metadata": {},
     "output_type": "execute_result"
    }
   ],
   "source": [
    "data.shape"
   ]
  },
  {
   "cell_type": "code",
   "execution_count": 1,
   "id": "ddcf9f2b",
   "metadata": {},
   "outputs": [
    {
     "ename": "NameError",
     "evalue": "name 'df_test' is not defined",
     "output_type": "error",
     "traceback": [
      "\u001b[1;31m---------------------------------------------------------------------------\u001b[0m",
      "\u001b[1;31mNameError\u001b[0m                                 Traceback (most recent call last)",
      "\u001b[1;32mC:\\Users\\OMARHU~1\\AppData\\Local\\Temp/ipykernel_8380/3485490791.py\u001b[0m in \u001b[0;36m<module>\u001b[1;34m\u001b[0m\n\u001b[1;32m----> 1\u001b[1;33m \u001b[0mdf_test\u001b[0m\u001b[1;33m.\u001b[0m\u001b[0mshape\u001b[0m\u001b[1;33m\u001b[0m\u001b[1;33m\u001b[0m\u001b[0m\n\u001b[0m",
      "\u001b[1;31mNameError\u001b[0m: name 'df_test' is not defined"
     ]
    }
   ],
   "source": [
    "df_test.shape"
   ]
  },
  {
   "cell_type": "code",
   "execution_count": 42,
   "id": "29d68eb0",
   "metadata": {},
   "outputs": [
    {
     "data": {
      "text/plain": [
       "State          0\n",
       "City           0\n",
       "Building       0\n",
       "Unit-type      0\n",
       "Size           0\n",
       "Furnishing     0\n",
       "Bebroom        0\n",
       "Bathroom       0\n",
       "Parking       16\n",
       "RentPrice     26\n",
       "SalePrice     43\n",
       "dtype: int64"
      ]
     },
     "execution_count": 42,
     "metadata": {},
     "output_type": "execute_result"
    }
   ],
   "source": [
    "# Checking the null values\n",
    "\n",
    "data.isnull() .sum()"
   ]
  },
  {
   "cell_type": "code",
   "execution_count": 41,
   "id": "2ed3fc21",
   "metadata": {},
   "outputs": [
    {
     "ename": "AttributeError",
     "evalue": "'DataFrame' object has no attribute 'heatmap'",
     "output_type": "error",
     "traceback": [
      "\u001b[1;31m---------------------------------------------------------------------------\u001b[0m",
      "\u001b[1;31mAttributeError\u001b[0m                            Traceback (most recent call last)",
      "\u001b[1;32mC:\\Users\\OMARHU~1\\AppData\\Local\\Temp/ipykernel_13012/4114023252.py\u001b[0m in \u001b[0;36m<module>\u001b[1;34m\u001b[0m\n\u001b[0;32m      1\u001b[0m \u001b[1;31m# heatmap for visualizing the null vaues\u001b[0m\u001b[1;33m\u001b[0m\u001b[1;33m\u001b[0m\u001b[0m\n\u001b[1;32m----> 2\u001b[1;33m \u001b[0mdata\u001b[0m\u001b[1;33m.\u001b[0m\u001b[0mheatmap\u001b[0m\u001b[1;33m(\u001b[0m\u001b[0mdata\u001b[0m\u001b[1;33m.\u001b[0m\u001b[0misnull\u001b[0m\u001b[1;33m(\u001b[0m\u001b[1;33m)\u001b[0m\u001b[1;33m,\u001b[0m \u001b[0myticklabels\u001b[0m \u001b[1;33m=\u001b[0m \u001b[1;32mFalse\u001b[0m\u001b[1;33m,\u001b[0m\u001b[0mcbar\u001b[0m \u001b[1;33m=\u001b[0m \u001b[1;32mFalse\u001b[0m\u001b[1;33m)\u001b[0m\u001b[1;33m\u001b[0m\u001b[1;33m\u001b[0m\u001b[0m\n\u001b[0m",
      "\u001b[1;32m~\\anaconda3\\lib\\site-packages\\pandas\\core\\generic.py\u001b[0m in \u001b[0;36m__getattr__\u001b[1;34m(self, name)\u001b[0m\n\u001b[0;32m   5485\u001b[0m         ):\n\u001b[0;32m   5486\u001b[0m             \u001b[1;32mreturn\u001b[0m \u001b[0mself\u001b[0m\u001b[1;33m[\u001b[0m\u001b[0mname\u001b[0m\u001b[1;33m]\u001b[0m\u001b[1;33m\u001b[0m\u001b[1;33m\u001b[0m\u001b[0m\n\u001b[1;32m-> 5487\u001b[1;33m         \u001b[1;32mreturn\u001b[0m \u001b[0mobject\u001b[0m\u001b[1;33m.\u001b[0m\u001b[0m__getattribute__\u001b[0m\u001b[1;33m(\u001b[0m\u001b[0mself\u001b[0m\u001b[1;33m,\u001b[0m \u001b[0mname\u001b[0m\u001b[1;33m)\u001b[0m\u001b[1;33m\u001b[0m\u001b[1;33m\u001b[0m\u001b[0m\n\u001b[0m\u001b[0;32m   5488\u001b[0m \u001b[1;33m\u001b[0m\u001b[0m\n\u001b[0;32m   5489\u001b[0m     \u001b[1;32mdef\u001b[0m \u001b[0m__setattr__\u001b[0m\u001b[1;33m(\u001b[0m\u001b[0mself\u001b[0m\u001b[1;33m,\u001b[0m \u001b[0mname\u001b[0m\u001b[1;33m:\u001b[0m \u001b[0mstr\u001b[0m\u001b[1;33m,\u001b[0m \u001b[0mvalue\u001b[0m\u001b[1;33m)\u001b[0m \u001b[1;33m->\u001b[0m \u001b[1;32mNone\u001b[0m\u001b[1;33m:\u001b[0m\u001b[1;33m\u001b[0m\u001b[1;33m\u001b[0m\u001b[0m\n",
      "\u001b[1;31mAttributeError\u001b[0m: 'DataFrame' object has no attribute 'heatmap'"
     ]
    }
   ],
   "source": [
    "# heatmap for visualizing the null vaues\n",
    ".heatmap(data.isnull(), yticklabels = False,cbar = False)"
   ]
  },
  {
   "cell_type": "code",
   "execution_count": 43,
   "id": "f2225d74",
   "metadata": {},
   "outputs": [
    {
     "name": "stdout",
     "output_type": "stream",
     "text": [
      "<class 'pandas.core.frame.DataFrame'>\n",
      "RangeIndex: 69 entries, 0 to 68\n",
      "Data columns (total 11 columns):\n",
      " #   Column      Non-Null Count  Dtype  \n",
      "---  ------      --------------  -----  \n",
      " 0   State       69 non-null     object \n",
      " 1   City        69 non-null     object \n",
      " 2   Building    69 non-null     object \n",
      " 3   Unit-type   69 non-null     object \n",
      " 4   Size        69 non-null     int64  \n",
      " 5   Furnishing  69 non-null     object \n",
      " 6   Bebroom     69 non-null     int64  \n",
      " 7   Bathroom    69 non-null     int64  \n",
      " 8   Parking     53 non-null     float64\n",
      " 9   RentPrice   43 non-null     float64\n",
      " 10  SalePrice   26 non-null     float64\n",
      "dtypes: float64(3), int64(3), object(5)\n",
      "memory usage: 6.1+ KB\n"
     ]
    }
   ],
   "source": [
    "data.info()"
   ]
  },
  {
   "cell_type": "markdown",
   "id": "999fc551",
   "metadata": {},
   "source": [
    "# 3. Data Cleaning"
   ]
  },
  {
   "cell_type": "markdown",
   "id": "b34a3b14",
   "metadata": {},
   "source": [
    "## Missing value handlling"
   ]
  },
  {
   "cell_type": "code",
   "execution_count": 44,
   "id": "84544bd3",
   "metadata": {},
   "outputs": [
    {
     "name": "stdout",
     "output_type": "stream",
     "text": [
      "<class 'pandas.core.frame.DataFrame'>\n",
      "RangeIndex: 69 entries, 0 to 68\n",
      "Data columns (total 11 columns):\n",
      " #   Column      Non-Null Count  Dtype  \n",
      "---  ------      --------------  -----  \n",
      " 0   State       69 non-null     object \n",
      " 1   City        69 non-null     object \n",
      " 2   Building    69 non-null     object \n",
      " 3   Unit-type   69 non-null     object \n",
      " 4   Size        69 non-null     int64  \n",
      " 5   Furnishing  69 non-null     object \n",
      " 6   Bebroom     69 non-null     int64  \n",
      " 7   Bathroom    69 non-null     int64  \n",
      " 8   Parking     53 non-null     float64\n",
      " 9   RentPrice   43 non-null     float64\n",
      " 10  SalePrice   26 non-null     float64\n",
      "dtypes: float64(3), int64(3), object(5)\n",
      "memory usage: 6.1+ KB\n"
     ]
    }
   ],
   "source": [
    "data.info()"
   ]
  },
  {
   "cell_type": "code",
   "execution_count": 47,
   "id": "5c4e1531",
   "metadata": {},
   "outputs": [
    {
     "data": {
      "text/plain": [
       "1.0    49\n",
       "2.0     4\n",
       "Name: Parking, dtype: int64"
      ]
     },
     "execution_count": 47,
     "metadata": {},
     "output_type": "execute_result"
    }
   ],
   "source": [
    "# Handling missing data for Parking\n",
    "\n",
    "data['Parking'].value_counts()"
   ]
  },
  {
   "cell_type": "code",
   "execution_count": 48,
   "id": "f2ae0d03",
   "metadata": {},
   "outputs": [],
   "source": [
    "data['Parking'] = data['Parking'].fillna(data['Parking'].mode()[0])"
   ]
  },
  {
   "cell_type": "code",
   "execution_count": 26,
   "id": "88ee1016",
   "metadata": {},
   "outputs": [
    {
     "data": {
      "text/plain": [
       "<matplotlib.collections.PathCollection at 0x1eb1cde99a0>"
      ]
     },
     "execution_count": 26,
     "metadata": {},
     "output_type": "execute_result"
    },
    {
     "data": {
      "image/png": "[encoded data removed]",
      "text/plain": [
       "<Figure size 432x288 with 1 Axes>"
      ]
     },
     "metadata": {
      "needs_background": "light"
     },
     "output_type": "display_data"
    }
   ],
   "source": [
    "fig, ax = plt.subplots()\n",
    "\n",
    "ax.scatter(x=data['Size'], y=data['RentPrice'])"
   ]
  },
  {
   "cell_type": "code",
   "execution_count": 27,
   "id": "139caacb",
   "metadata": {},
   "outputs": [
    {
     "data": {
      "text/html": [
       "<div>\n",
       "<style scoped>\n",
       "    .dataframe tbody tr th:only-of-type {\n",
       "        vertical-align: middle;\n",
       "    }\n",
       "\n",
       "    .dataframe tbody tr th {\n",
       "        vertical-align: top;\n",
       "    }\n",
       "\n",
       "    .dataframe thead th {\n",
       "        text-align: right;\n",
       "    }\n",
       "</style>\n",
       "<table border=\"1\" class=\"dataframe\">\n",
       "  <thead>\n",
       "    <tr style=\"text-align: right;\">\n",
       "      <th></th>\n",
       "      <th>Size</th>\n",
       "      <th>Bebroom</th>\n",
       "      <th>Bathroom</th>\n",
       "      <th>Parking</th>\n",
       "      <th>RentPrice</th>\n",
       "      <th>SalePrice</th>\n",
       "    </tr>\n",
       "  </thead>\n",
       "  <tbody>\n",
       "    <tr>\n",
       "      <th>Size</th>\n",
       "      <td>1.000000</td>\n",
       "      <td>0.803039</td>\n",
       "      <td>0.713646</td>\n",
       "      <td>0.111345</td>\n",
       "      <td>0.878880</td>\n",
       "      <td>0.871477</td>\n",
       "    </tr>\n",
       "    <tr>\n",
       "      <th>Bebroom</th>\n",
       "      <td>0.803039</td>\n",
       "      <td>1.000000</td>\n",
       "      <td>0.724486</td>\n",
       "      <td>0.182159</td>\n",
       "      <td>0.752398</td>\n",
       "      <td>0.758500</td>\n",
       "    </tr>\n",
       "    <tr>\n",
       "      <th>Bathroom</th>\n",
       "      <td>0.713646</td>\n",
       "      <td>0.724486</td>\n",
       "      <td>1.000000</td>\n",
       "      <td>0.204896</td>\n",
       "      <td>0.554559</td>\n",
       "      <td>0.772052</td>\n",
       "    </tr>\n",
       "    <tr>\n",
       "      <th>Parking</th>\n",
       "      <td>0.111345</td>\n",
       "      <td>0.182159</td>\n",
       "      <td>0.204896</td>\n",
       "      <td>1.000000</td>\n",
       "      <td>0.196436</td>\n",
       "      <td>0.023976</td>\n",
       "    </tr>\n",
       "    <tr>\n",
       "      <th>RentPrice</th>\n",
       "      <td>0.878880</td>\n",
       "      <td>0.752398</td>\n",
       "      <td>0.554559</td>\n",
       "      <td>0.196436</td>\n",
       "      <td>1.000000</td>\n",
       "      <td>NaN</td>\n",
       "    </tr>\n",
       "    <tr>\n",
       "      <th>SalePrice</th>\n",
       "      <td>0.871477</td>\n",
       "      <td>0.758500</td>\n",
       "      <td>0.772052</td>\n",
       "      <td>0.023976</td>\n",
       "      <td>NaN</td>\n",
       "      <td>1.000000</td>\n",
       "    </tr>\n",
       "  </tbody>\n",
       "</table>\n",
       "</div>"
      ],
      "text/plain": [
       "               Size   Bebroom  Bathroom   Parking  RentPrice  SalePrice\n",
       "Size       1.000000  0.803039  0.713646  0.111345   0.878880   0.871477\n",
       "Bebroom    0.803039  1.000000  0.724486  0.182159   0.752398   0.758500\n",
       "Bathroom   0.713646  0.724486  1.000000  0.204896   0.554559   0.772052\n",
       "Parking    0.111345  0.182159  0.204896  1.000000   0.196436   0.023976\n",
       "RentPrice  0.878880  0.752398  0.554559  0.196436   1.000000        NaN\n",
       "SalePrice  0.871477  0.758500  0.772052  0.023976        NaN   1.000000"
      ]
     },
     "execution_count": 27,
     "metadata": {},
     "output_type": "execute_result"
    }
   ],
   "source": [
    "data.corr()"
   ]
  },
  {
   "cell_type": "code",
   "execution_count": null,
   "id": "7d8da626",
   "metadata": {},
   "outputs": [],
   "source": []
  }
 ],
 "metadata": {
  "kernelspec": {
   "display_name": "Python 3 (ipykernel)",
   "language": "python",
   "name": "python3"
  },
  "language_info": {
   "codemirror_mode": {
    "name": "ipython",
    "version": 3
   },
   "file_extension": ".py",
   "mimetype": "text/x-python",
   "name": "python",
   "nbconvert_exporter": "python",
   "pygments_lexer": "ipython3",
   "version": "3.9.7"
  }
 },
 "nbformat": 4,
 "nbformat_minor": 5
}
